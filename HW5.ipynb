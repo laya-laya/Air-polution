{
 "cells": [
  {
   "cell_type": "markdown",
   "metadata": {},
   "source": [
    "# The Data"
   ]
  },
  {
   "cell_type": "markdown",
   "metadata": {},
   "source": [
    "**Filename:** daily_aqi_by_county_2018.csv"
   ]
  },
  {
   "cell_type": "markdown",
   "metadata": {},
   "source": [
    "#### Column Headers"
   ]
  },
  {
   "cell_type": "markdown",
   "metadata": {},
   "source": [
    " - State Name\n",
    " - County Name\n",
    " - State Code\n",
    " - County Code\n",
    " - Date: Reporting Date MM/DD/YYYY\n",
    " - AQI\n",
    " - Category\n",
    " - Defining param\n",
    " - Defining Site\n",
    " - Number of Sites Reporting"
   ]
  },
  {
   "cell_type": "markdown",
   "metadata": {},
   "source": [
    "#### Category "
   ]
  },
  {
   "cell_type": "markdown",
   "metadata": {},
   "source": [
    "| AQI Range | Description |\n",
    "| --- | --- |\n",
    "| 0 to 50 | Good |\n",
    "| 51 to 100 | Moderate |\n",
    "| 101 to 150 | Unhealthy for Sensitive Groups |\n",
    "| 151 to 200 | Unhealthy |\n",
    "| 201 to 300 | Very Unhealthy |\n",
    "| Over 300 | Hazardous |"
   ]
  },
  {
   "cell_type": "markdown",
   "metadata": {},
   "source": [
    " **Libraries we need!**"
   ]
  },
  {
   "cell_type": "code",
   "execution_count": 1,
   "metadata": {},
   "outputs": [],
   "source": [
    "%matplotlib inline\n",
    "\n",
    "import pandas as pd\n",
    "import matplotlib.pyplot as plt\n",
    "import datetime\n",
    "import numpy as np\n",
    "import math\n",
    "import scipy\n",
    "from scipy.stats import ttest_ind"
   ]
  },
  {
   "cell_type": "markdown",
   "metadata": {},
   "source": [
    "**import Data**"
   ]
  },
  {
   "cell_type": "code",
   "execution_count": 2,
   "metadata": {},
   "outputs": [],
   "source": [
    "aqi_all = pd.read_csv('daily_aqi_by_county_2018.csv', parse_dates=[\"Date\"])"
   ]
  },
  {
   "cell_type": "code",
   "execution_count": 3,
   "metadata": {},
   "outputs": [
    {
     "data": {
      "text/html": [
       "<div>\n",
       "<style scoped>\n",
       "    .dataframe tbody tr th:only-of-type {\n",
       "        vertical-align: middle;\n",
       "    }\n",
       "\n",
       "    .dataframe tbody tr th {\n",
       "        vertical-align: top;\n",
       "    }\n",
       "\n",
       "    .dataframe thead th {\n",
       "        text-align: right;\n",
       "    }\n",
       "</style>\n",
       "<table border=\"1\" class=\"dataframe\">\n",
       "  <thead>\n",
       "    <tr style=\"text-align: right;\">\n",
       "      <th></th>\n",
       "      <th>State Name</th>\n",
       "      <th>county Name</th>\n",
       "      <th>State Code</th>\n",
       "      <th>County Code</th>\n",
       "      <th>Date</th>\n",
       "      <th>AQI</th>\n",
       "      <th>Category</th>\n",
       "      <th>Defining Parameter</th>\n",
       "      <th>Defining Site</th>\n",
       "      <th>Number of Sites Reporting</th>\n",
       "    </tr>\n",
       "  </thead>\n",
       "  <tbody>\n",
       "    <tr>\n",
       "      <td>0</td>\n",
       "      <td>Alabama</td>\n",
       "      <td>Baldwin</td>\n",
       "      <td>1</td>\n",
       "      <td>3</td>\n",
       "      <td>2018-01-02</td>\n",
       "      <td>32</td>\n",
       "      <td>Good</td>\n",
       "      <td>PM2.5</td>\n",
       "      <td>01-003-0010</td>\n",
       "      <td>1</td>\n",
       "    </tr>\n",
       "    <tr>\n",
       "      <td>1</td>\n",
       "      <td>Alabama</td>\n",
       "      <td>Baldwin</td>\n",
       "      <td>1</td>\n",
       "      <td>3</td>\n",
       "      <td>2018-01-05</td>\n",
       "      <td>34</td>\n",
       "      <td>Good</td>\n",
       "      <td>PM2.5</td>\n",
       "      <td>01-003-0010</td>\n",
       "      <td>1</td>\n",
       "    </tr>\n",
       "    <tr>\n",
       "      <td>2</td>\n",
       "      <td>Alabama</td>\n",
       "      <td>Baldwin</td>\n",
       "      <td>1</td>\n",
       "      <td>3</td>\n",
       "      <td>2018-01-08</td>\n",
       "      <td>15</td>\n",
       "      <td>Good</td>\n",
       "      <td>PM2.5</td>\n",
       "      <td>01-003-0010</td>\n",
       "      <td>1</td>\n",
       "    </tr>\n",
       "    <tr>\n",
       "      <td>3</td>\n",
       "      <td>Alabama</td>\n",
       "      <td>Baldwin</td>\n",
       "      <td>1</td>\n",
       "      <td>3</td>\n",
       "      <td>2018-01-11</td>\n",
       "      <td>19</td>\n",
       "      <td>Good</td>\n",
       "      <td>PM2.5</td>\n",
       "      <td>01-003-0010</td>\n",
       "      <td>1</td>\n",
       "    </tr>\n",
       "    <tr>\n",
       "      <td>4</td>\n",
       "      <td>Alabama</td>\n",
       "      <td>Baldwin</td>\n",
       "      <td>1</td>\n",
       "      <td>3</td>\n",
       "      <td>2018-01-14</td>\n",
       "      <td>25</td>\n",
       "      <td>Good</td>\n",
       "      <td>PM2.5</td>\n",
       "      <td>01-003-0010</td>\n",
       "      <td>1</td>\n",
       "    </tr>\n",
       "  </tbody>\n",
       "</table>\n",
       "</div>"
      ],
      "text/plain": [
       "  State Name county Name  State Code  County Code       Date  AQI Category  \\\n",
       "0    Alabama     Baldwin           1            3 2018-01-02   32     Good   \n",
       "1    Alabama     Baldwin           1            3 2018-01-05   34     Good   \n",
       "2    Alabama     Baldwin           1            3 2018-01-08   15     Good   \n",
       "3    Alabama     Baldwin           1            3 2018-01-11   19     Good   \n",
       "4    Alabama     Baldwin           1            3 2018-01-14   25     Good   \n",
       "\n",
       "  Defining Parameter Defining Site  Number of Sites Reporting  \n",
       "0              PM2.5   01-003-0010                          1  \n",
       "1              PM2.5   01-003-0010                          1  \n",
       "2              PM2.5   01-003-0010                          1  \n",
       "3              PM2.5   01-003-0010                          1  \n",
       "4              PM2.5   01-003-0010                          1  "
      ]
     },
     "execution_count": 3,
     "metadata": {},
     "output_type": "execute_result"
    }
   ],
   "source": [
    "aqi_all.head()"
   ]
  },
  {
   "cell_type": "code",
   "execution_count": 5,
   "metadata": {},
   "outputs": [],
   "source": [
    "df = pd.DataFrame(aqi_all) "
   ]
  },
  {
   "cell_type": "markdown",
   "metadata": {},
   "source": [
    "**1) Let's find out where is the most polluted county?**"
   ]
  },
  {
   "cell_type": "code",
   "execution_count": 24,
   "metadata": {},
   "outputs": [
    {
     "name": "stdout",
     "output_type": "stream",
     "text": [
      "      State Name county Name  State Code  County Code       Date  AQI  \\\n",
      "10770    Arizona       Pinal           4           21 2018-04-12  996   \n",
      "\n",
      "        Category Defining Parameter Defining Site  Number of Sites Reporting  \n",
      "10770  Hazardous               PM10   04-021-3008                         13  \n"
     ]
    }
   ],
   "source": [
    "print(df[df.AQI == df.AQI.max()]) "
   ]
  },
  {
   "cell_type": "markdown",
   "metadata": {},
   "source": [
    "#### we can see that Pinal in Arizona is the most polluted county"
   ]
  },
  {
   "cell_type": "markdown",
   "metadata": {},
   "source": [
    "**but this is only for one data!**\n",
    "**It is not right. We should use mean data for each county.**"
   ]
  },
  {
   "cell_type": "code",
   "execution_count": 25,
   "metadata": {},
   "outputs": [],
   "source": [
    "df = pd.DataFrame(aqi_all) "
   ]
  },
  {
   "cell_type": "markdown",
   "metadata": {},
   "source": [
    "**The first 20 for county based on mean**"
   ]
  },
  {
   "cell_type": "code",
   "execution_count": 33,
   "metadata": {},
   "outputs": [
    {
     "data": {
      "text/plain": [
       "<matplotlib.axes._subplots.AxesSubplot at 0x11e372dd0>"
      ]
     },
     "execution_count": 33,
     "metadata": {},
     "output_type": "execute_result"
    },
    {
     "data": {
      "image/png": "[encoded data removed]",
      "text/plain": [
       "<Figure size 648x360 with 1 Axes>"
      ]
     },
     "metadata": {
      "needs_background": "light"
     },
     "output_type": "display_data"
    }
   ],
   "source": [
    "df[['AQI','county Name']].groupby(['county Name']).mean().sort_values('AQI',ascending=False)[:20].plot.bar(figsize=(9,5))"
   ]
  },
  {
   "cell_type": "markdown",
   "metadata": {},
   "source": [
    "## We can see that the most polluted county is Hawaii based on the mean average."
   ]
  },
  {
   "cell_type": "markdown",
   "metadata": {},
   "source": [
    "**The first 20 for county based on median**"
   ]
  },
  {
   "cell_type": "code",
   "execution_count": 34,
   "metadata": {},
   "outputs": [
    {
     "data": {
      "text/plain": [
       "<matplotlib.axes._subplots.AxesSubplot at 0x11e6e5ed0>"
      ]
     },
     "execution_count": 34,
     "metadata": {},
     "output_type": "execute_result"
    },
    {
     "data": {
      "image/png": "[encoded data removed]",
      "text/plain": [
       "<Figure size 648x360 with 1 Axes>"
      ]
     },
     "metadata": {
      "needs_background": "light"
     },
     "output_type": "display_data"
    }
   ],
   "source": [
    "df[['AQI','county Name']].groupby(['county Name']).median().sort_values('AQI',ascending=False)[:20].plot.bar(figsize=(9,5))"
   ]
  },
  {
   "cell_type": "code",
   "execution_count": 35,
   "metadata": {},
   "outputs": [
    {
     "data": {
      "text/plain": [
       "<matplotlib.axes._subplots.AxesSubplot at 0x11ea5a3d0>"
      ]
     },
     "execution_count": 35,
     "metadata": {},
     "output_type": "execute_result"
    },
    {
     "data": {
      "image/png": "[encoded data removed]",
      "text/plain": [
       "<Figure size 648x360 with 1 Axes>"
      ]
     },
     "metadata": {
      "needs_background": "light"
     },
     "output_type": "display_data"
    }
   ],
   "source": [
    "df[['AQI','State Name']].groupby(['State Name']).mean().sort_values('AQI',ascending=False)[:20].plot.bar(figsize=(9,5))"
   ]
  },
  {
   "cell_type": "markdown",
   "metadata": {},
   "source": [
    "## Based on the mean average California is the most polluted State in USA. God help them!"
   ]
  },
  {
   "cell_type": "code",
   "execution_count": 37,
   "metadata": {},
   "outputs": [
    {
     "data": {
      "text/plain": [
       "<matplotlib.axes._subplots.AxesSubplot at 0x11ed3a390>"
      ]
     },
     "execution_count": 37,
     "metadata": {},
     "output_type": "execute_result"
    },
    {
     "data": {
      "image/png": "[encoded data removed]",
      "text/plain": [
       "<Figure size 648x360 with 1 Axes>"
      ]
     },
     "metadata": {
      "needs_background": "light"
     },
     "output_type": "display_data"
    }
   ],
   "source": [
    "df[['AQI','State Name']].groupby(['State Name']).median().sort_values('AQI',ascending=False)[:20].plot.bar(figsize=(9,5))"
   ]
  },
  {
   "cell_type": "markdown",
   "metadata": {},
   "source": [
    "## Also, based on the meadian average the most polluted State is California. "
   ]
  },
  {
   "cell_type": "markdown",
   "metadata": {},
   "source": [
    "### 2) Category vs AQI boxplot"
   ]
  },
  {
   "cell_type": "markdown",
   "metadata": {},
   "source": []
  },
  {
   "cell_type": "code",
   "execution_count": 39,
   "metadata": {},
   "outputs": [
    {
     "data": {
      "text/plain": [
       "<matplotlib.axes._subplots.AxesSubplot at 0x11fb0a410>"
      ]
     },
     "execution_count": 39,
     "metadata": {},
     "output_type": "execute_result"
    },
    {
     "data": {
      "image/png": "[encoded data removed]",
      "text/plain": [
       "<Figure size 432x288 with 1 Axes>"
      ]
     },
     "metadata": {
      "needs_background": "light"
     },
     "output_type": "display_data"
    }
   ],
   "source": [
    "import pandas as pd\n",
    "import seaborn as sns\n",
    "sns.boxplot(x='Category', y='AQI', data=df)"
   ]
  },
  {
   "cell_type": "code",
   "execution_count": 43,
   "metadata": {},
   "outputs": [
    {
     "data": {
      "text/plain": [
       "<matplotlib.axes._subplots.AxesSubplot at 0x1208861d0>"
      ]
     },
     "execution_count": 43,
     "metadata": {},
     "output_type": "execute_result"
    },
    {
     "data": {
      "image/png": "[encoded data removed]",
      "text/plain": [
       "<Figure size 1440x720 with 1 Axes>"
      ]
     },
     "metadata": {
      "needs_background": "light"
     },
     "output_type": "display_data"
    }
   ],
   "source": [
    "plt.rcParams[\"figure.figsize\"] = [20, 10]\n",
    "\n",
    "df.boxplot(by ='Category', column =['AQI'], grid = False) "
   ]
  },
  {
   "cell_type": "markdown",
   "metadata": {},
   "source": [
    "### 3) Air quality index time series"
   ]
  },
  {
   "cell_type": "code",
   "execution_count": 51,
   "metadata": {},
   "outputs": [
    {
     "data": {
      "text/plain": [
       "Text(0, 0.5, 'Average air quality index in USA')"
      ]
     },
     "execution_count": 51,
     "metadata": {},
     "output_type": "execute_result"
    },
    {
     "data": {
      "image/png": "[encoded data removed]",
      "text/plain": [
       "<Figure size 648x360 with 1 Axes>"
      ]
     },
     "metadata": {
      "needs_background": "light"
     },
     "output_type": "display_data"
    }
   ],
   "source": [
    "ax = df[['AQI','Date']].groupby(['Date']).mean().plot(figsize=(9,5))\n",
    "ax.set_ylabel(\"Average air quality index in USA\")"
   ]
  },
  {
   "cell_type": "markdown",
   "metadata": {},
   "source": [
    "### 4) Most important Air pollutants in Washington"
   ]
  },
  {
   "cell_type": "code",
   "execution_count": 5,
   "metadata": {},
   "outputs": [
    {
     "data": {
      "text/html": [
       "<div>\n",
       "<style scoped>\n",
       "    .dataframe tbody tr th:only-of-type {\n",
       "        vertical-align: middle;\n",
       "    }\n",
       "\n",
       "    .dataframe tbody tr th {\n",
       "        vertical-align: top;\n",
       "    }\n",
       "\n",
       "    .dataframe thead th {\n",
       "        text-align: right;\n",
       "    }\n",
       "</style>\n",
       "<table border=\"1\" class=\"dataframe\">\n",
       "  <thead>\n",
       "    <tr style=\"text-align: right;\">\n",
       "      <th></th>\n",
       "      <th>State Name</th>\n",
       "      <th>county Name</th>\n",
       "      <th>State Code</th>\n",
       "      <th>County Code</th>\n",
       "      <th>Date</th>\n",
       "      <th>AQI</th>\n",
       "      <th>Category</th>\n",
       "      <th>Defining Parameter</th>\n",
       "      <th>Defining Site</th>\n",
       "      <th>Number of Sites Reporting</th>\n",
       "    </tr>\n",
       "  </thead>\n",
       "  <tbody>\n",
       "    <tr>\n",
       "      <td>311594</td>\n",
       "      <td>Washington</td>\n",
       "      <td>Adams</td>\n",
       "      <td>53</td>\n",
       "      <td>1</td>\n",
       "      <td>2018-01-01</td>\n",
       "      <td>26</td>\n",
       "      <td>Good</td>\n",
       "      <td>PM2.5</td>\n",
       "      <td>53-001-0003</td>\n",
       "      <td>1</td>\n",
       "    </tr>\n",
       "    <tr>\n",
       "      <td>311595</td>\n",
       "      <td>Washington</td>\n",
       "      <td>Adams</td>\n",
       "      <td>53</td>\n",
       "      <td>1</td>\n",
       "      <td>2018-01-02</td>\n",
       "      <td>20</td>\n",
       "      <td>Good</td>\n",
       "      <td>PM2.5</td>\n",
       "      <td>53-001-0003</td>\n",
       "      <td>1</td>\n",
       "    </tr>\n",
       "    <tr>\n",
       "      <td>311596</td>\n",
       "      <td>Washington</td>\n",
       "      <td>Adams</td>\n",
       "      <td>53</td>\n",
       "      <td>1</td>\n",
       "      <td>2018-01-03</td>\n",
       "      <td>20</td>\n",
       "      <td>Good</td>\n",
       "      <td>PM2.5</td>\n",
       "      <td>53-001-0003</td>\n",
       "      <td>1</td>\n",
       "    </tr>\n",
       "    <tr>\n",
       "      <td>311597</td>\n",
       "      <td>Washington</td>\n",
       "      <td>Adams</td>\n",
       "      <td>53</td>\n",
       "      <td>1</td>\n",
       "      <td>2018-01-04</td>\n",
       "      <td>32</td>\n",
       "      <td>Good</td>\n",
       "      <td>PM2.5</td>\n",
       "      <td>53-001-0003</td>\n",
       "      <td>1</td>\n",
       "    </tr>\n",
       "    <tr>\n",
       "      <td>311598</td>\n",
       "      <td>Washington</td>\n",
       "      <td>Adams</td>\n",
       "      <td>53</td>\n",
       "      <td>1</td>\n",
       "      <td>2018-01-05</td>\n",
       "      <td>36</td>\n",
       "      <td>Good</td>\n",
       "      <td>PM2.5</td>\n",
       "      <td>53-001-0003</td>\n",
       "      <td>1</td>\n",
       "    </tr>\n",
       "    <tr>\n",
       "      <td>...</td>\n",
       "      <td>...</td>\n",
       "      <td>...</td>\n",
       "      <td>...</td>\n",
       "      <td>...</td>\n",
       "      <td>...</td>\n",
       "      <td>...</td>\n",
       "      <td>...</td>\n",
       "      <td>...</td>\n",
       "      <td>...</td>\n",
       "      <td>...</td>\n",
       "    </tr>\n",
       "    <tr>\n",
       "      <td>322261</td>\n",
       "      <td>Washington</td>\n",
       "      <td>Yakima</td>\n",
       "      <td>53</td>\n",
       "      <td>77</td>\n",
       "      <td>2018-12-27</td>\n",
       "      <td>67</td>\n",
       "      <td>Moderate</td>\n",
       "      <td>PM2.5</td>\n",
       "      <td>53-077-0009</td>\n",
       "      <td>4</td>\n",
       "    </tr>\n",
       "    <tr>\n",
       "      <td>322262</td>\n",
       "      <td>Washington</td>\n",
       "      <td>Yakima</td>\n",
       "      <td>53</td>\n",
       "      <td>77</td>\n",
       "      <td>2018-12-28</td>\n",
       "      <td>64</td>\n",
       "      <td>Moderate</td>\n",
       "      <td>PM2.5</td>\n",
       "      <td>53-077-0009</td>\n",
       "      <td>4</td>\n",
       "    </tr>\n",
       "    <tr>\n",
       "      <td>322263</td>\n",
       "      <td>Washington</td>\n",
       "      <td>Yakima</td>\n",
       "      <td>53</td>\n",
       "      <td>77</td>\n",
       "      <td>2018-12-29</td>\n",
       "      <td>35</td>\n",
       "      <td>Good</td>\n",
       "      <td>PM2.5</td>\n",
       "      <td>53-077-0009</td>\n",
       "      <td>4</td>\n",
       "    </tr>\n",
       "    <tr>\n",
       "      <td>322264</td>\n",
       "      <td>Washington</td>\n",
       "      <td>Yakima</td>\n",
       "      <td>53</td>\n",
       "      <td>77</td>\n",
       "      <td>2018-12-30</td>\n",
       "      <td>13</td>\n",
       "      <td>Good</td>\n",
       "      <td>PM2.5</td>\n",
       "      <td>53-077-0009</td>\n",
       "      <td>4</td>\n",
       "    </tr>\n",
       "    <tr>\n",
       "      <td>322265</td>\n",
       "      <td>Washington</td>\n",
       "      <td>Yakima</td>\n",
       "      <td>53</td>\n",
       "      <td>77</td>\n",
       "      <td>2018-12-31</td>\n",
       "      <td>40</td>\n",
       "      <td>Good</td>\n",
       "      <td>PM2.5</td>\n",
       "      <td>53-077-0015</td>\n",
       "      <td>4</td>\n",
       "    </tr>\n",
       "  </tbody>\n",
       "</table>\n",
       "<p>10672 rows × 10 columns</p>\n",
       "</div>"
      ],
      "text/plain": [
       "        State Name county Name  State Code  County Code       Date  AQI  \\\n",
       "311594  Washington       Adams          53            1 2018-01-01   26   \n",
       "311595  Washington       Adams          53            1 2018-01-02   20   \n",
       "311596  Washington       Adams          53            1 2018-01-03   20   \n",
       "311597  Washington       Adams          53            1 2018-01-04   32   \n",
       "311598  Washington       Adams          53            1 2018-01-05   36   \n",
       "...            ...         ...         ...          ...        ...  ...   \n",
       "322261  Washington      Yakima          53           77 2018-12-27   67   \n",
       "322262  Washington      Yakima          53           77 2018-12-28   64   \n",
       "322263  Washington      Yakima          53           77 2018-12-29   35   \n",
       "322264  Washington      Yakima          53           77 2018-12-30   13   \n",
       "322265  Washington      Yakima          53           77 2018-12-31   40   \n",
       "\n",
       "        Category Defining Parameter Defining Site  Number of Sites Reporting  \n",
       "311594      Good              PM2.5   53-001-0003                          1  \n",
       "311595      Good              PM2.5   53-001-0003                          1  \n",
       "311596      Good              PM2.5   53-001-0003                          1  \n",
       "311597      Good              PM2.5   53-001-0003                          1  \n",
       "311598      Good              PM2.5   53-001-0003                          1  \n",
       "...          ...                ...           ...                        ...  \n",
       "322261  Moderate              PM2.5   53-077-0009                          4  \n",
       "322262  Moderate              PM2.5   53-077-0009                          4  \n",
       "322263      Good              PM2.5   53-077-0009                          4  \n",
       "322264      Good              PM2.5   53-077-0009                          4  \n",
       "322265      Good              PM2.5   53-077-0015                          4  \n",
       "\n",
       "[10672 rows x 10 columns]"
      ]
     },
     "execution_count": 5,
     "metadata": {},
     "output_type": "execute_result"
    }
   ],
   "source": [
    "#try to locate only Washington state\n",
    "aqi_all[aqi_all['State Name'].str.contains(\"Washington\")]"
   ]
  },
  {
   "cell_type": "code",
   "execution_count": 6,
   "metadata": {},
   "outputs": [
    {
     "data": {
      "text/plain": [
       "<matplotlib.axes._subplots.AxesSubplot at 0x120ba2550>"
      ]
     },
     "execution_count": 6,
     "metadata": {},
     "output_type": "execute_result"
    },
    {
     "data": {
      "image/png": "[encoded data removed]",
      "text/plain": [
       "<Figure size 648x360 with 1 Axes>"
      ]
     },
     "metadata": {
      "needs_background": "light"
     },
     "output_type": "display_data"
    }
   ],
   "source": [
    "df[['AQI','Defining Parameter']].groupby(['Defining Parameter']).median().sort_values('AQI',ascending=False).plot.bar(figsize=(9,5))"
   ]
  },
  {
   "cell_type": "markdown",
   "metadata": {},
   "source": [
    "**The six most common pollutants include ozone, PM2.5, NO2, PM10, CO and SO2**"
   ]
  },
  {
   "cell_type": "markdown",
   "metadata": {},
   "source": [
    "**The most common obviously is Ozone!**"
   ]
  },
  {
   "cell_type": "markdown",
   "metadata": {},
   "source": [
    "### 5) Confidence interval"
   ]
  },
  {
   "cell_type": "code",
   "execution_count": 133,
   "metadata": {},
   "outputs": [
    {
     "name": "stdout",
     "output_type": "stream",
     "text": [
      "                   AQI                 \n",
      "                  mean count        std\n",
      "county Name                            \n",
      "Ada          44.082192   365  19.223779\n",
      "Adair        39.627397   365  15.471289\n",
      "Adams        35.377672  1684  20.660625\n",
      "Adjuntas     15.333333    27   5.378018\n",
      "Aiken        38.434211   228  12.596065\n",
      "...                ...   ...        ...\n",
      "Yavapai      45.104110   365  11.636203\n",
      "Yellowstone  31.565934   364  19.044490\n",
      "Yolo         49.276712   365  26.833586\n",
      "York         40.402516   954  15.063470\n",
      "Yuma         51.413699   365  22.170328\n",
      "\n",
      "[815 rows x 3 columns]\n",
      "------------------------------\n",
      "                   AQI                   ci95_high   ci95_low\n",
      "                  mean count        std                      \n",
      "county Name                                                  \n",
      "Ada          44.082192   365  19.223779  46.054380  42.110003\n",
      "Adair        39.627397   365  15.471289  41.214614  38.040181\n",
      "Adams        35.377672  1684  20.660625  36.364471  34.390874\n",
      "Adjuntas     15.333333    27   5.378018  17.361933  13.304733\n",
      "Aiken        38.434211   228  12.596065  40.069232  36.799189\n",
      "...                ...   ...        ...        ...        ...\n",
      "Yavapai      45.104110   365  11.636203  46.297880  43.910339\n",
      "Yellowstone  31.565934   364  19.044490  33.522411  29.609457\n",
      "Yolo         49.276712   365  26.833586  52.029599  46.523825\n",
      "York         40.402516   954  15.063470  41.358403  39.446628\n",
      "Yuma         51.413699   365  22.170328  53.688177  49.139221\n",
      "\n",
      "[815 rows x 5 columns]\n"
     ]
    }
   ],
   "source": [
    "\n",
    "stats = df[['AQI','county Name']].groupby(['county Name']).agg(['mean', 'count', 'std'])\n",
    "print(stats)\n",
    "print('-'*30)\n",
    "\n",
    "ci95_hi = []\n",
    "ci95_lo = []\n",
    "\n",
    "for i in stats.index:\n",
    "    m, c, s = stats.loc[i]\n",
    "    ci95_hi.append(m + 1.96*s/math.sqrt(c))\n",
    "    ci95_lo.append(m - 1.96*s/math.sqrt(c))\n",
    "\n",
    "stats['ci95_high'] = ci95_hi\n",
    "stats['ci95_low'] = ci95_lo\n",
    "\n",
    "print(stats)\n",
    "\n",
    "#new_stats = df.drop(['AQI', 'State Name' , 'State Code' , 'County Code','Category' , 'Date' , 'Defining Parameter' , 'Defining Site', 'Number of Sites Reporting'], axis=1)\n",
    "\n"
   ]
  },
  {
   "cell_type": "code",
   "execution_count": 134,
   "metadata": {},
   "outputs": [
    {
     "data": {
      "text/html": [
       "<div>\n",
       "<style scoped>\n",
       "    .dataframe tbody tr th:only-of-type {\n",
       "        vertical-align: middle;\n",
       "    }\n",
       "\n",
       "    .dataframe tbody tr th {\n",
       "        vertical-align: top;\n",
       "    }\n",
       "\n",
       "    .dataframe thead tr th {\n",
       "        text-align: left;\n",
       "    }\n",
       "\n",
       "    .dataframe thead tr:last-of-type th {\n",
       "        text-align: right;\n",
       "    }\n",
       "</style>\n",
       "<table border=\"1\" class=\"dataframe\">\n",
       "  <thead>\n",
       "    <tr>\n",
       "      <th></th>\n",
       "      <th colspan=\"3\" halign=\"left\">AQI</th>\n",
       "      <th>ci95_high</th>\n",
       "      <th>ci95_low</th>\n",
       "    </tr>\n",
       "    <tr>\n",
       "      <th></th>\n",
       "      <th>mean</th>\n",
       "      <th>count</th>\n",
       "      <th>std</th>\n",
       "      <th></th>\n",
       "      <th></th>\n",
       "    </tr>\n",
       "    <tr>\n",
       "      <th>county Name</th>\n",
       "      <th></th>\n",
       "      <th></th>\n",
       "      <th></th>\n",
       "      <th></th>\n",
       "      <th></th>\n",
       "    </tr>\n",
       "  </thead>\n",
       "  <tbody>\n",
       "    <tr>\n",
       "      <td>Ada</td>\n",
       "      <td>44.082192</td>\n",
       "      <td>365</td>\n",
       "      <td>19.223779</td>\n",
       "      <td>46.054380</td>\n",
       "      <td>42.110003</td>\n",
       "    </tr>\n",
       "    <tr>\n",
       "      <td>Adair</td>\n",
       "      <td>39.627397</td>\n",
       "      <td>365</td>\n",
       "      <td>15.471289</td>\n",
       "      <td>41.214614</td>\n",
       "      <td>38.040181</td>\n",
       "    </tr>\n",
       "    <tr>\n",
       "      <td>Adams</td>\n",
       "      <td>35.377672</td>\n",
       "      <td>1684</td>\n",
       "      <td>20.660625</td>\n",
       "      <td>36.364471</td>\n",
       "      <td>34.390874</td>\n",
       "    </tr>\n",
       "    <tr>\n",
       "      <td>Adjuntas</td>\n",
       "      <td>15.333333</td>\n",
       "      <td>27</td>\n",
       "      <td>5.378018</td>\n",
       "      <td>17.361933</td>\n",
       "      <td>13.304733</td>\n",
       "    </tr>\n",
       "    <tr>\n",
       "      <td>Aiken</td>\n",
       "      <td>38.434211</td>\n",
       "      <td>228</td>\n",
       "      <td>12.596065</td>\n",
       "      <td>40.069232</td>\n",
       "      <td>36.799189</td>\n",
       "    </tr>\n",
       "  </tbody>\n",
       "</table>\n",
       "</div>"
      ],
      "text/plain": [
       "                   AQI                   ci95_high   ci95_low\n",
       "                  mean count        std                      \n",
       "county Name                                                  \n",
       "Ada          44.082192   365  19.223779  46.054380  42.110003\n",
       "Adair        39.627397   365  15.471289  41.214614  38.040181\n",
       "Adams        35.377672  1684  20.660625  36.364471  34.390874\n",
       "Adjuntas     15.333333    27   5.378018  17.361933  13.304733\n",
       "Aiken        38.434211   228  12.596065  40.069232  36.799189"
      ]
     },
     "execution_count": 134,
     "metadata": {},
     "output_type": "execute_result"
    }
   ],
   "source": [
    "stats.head()"
   ]
  },
  {
   "cell_type": "code",
   "execution_count": 135,
   "metadata": {},
   "outputs": [],
   "source": [
    "stats = stats.drop([\"AQI\"], axis=1)"
   ]
  },
  {
   "cell_type": "markdown",
   "metadata": {},
   "source": [
    "### So, the next table contain only county names and their 95% confidence interval."
   ]
  },
  {
   "cell_type": "code",
   "execution_count": 136,
   "metadata": {},
   "outputs": [
    {
     "data": {
      "text/html": [
       "<div>\n",
       "<style scoped>\n",
       "    .dataframe tbody tr th:only-of-type {\n",
       "        vertical-align: middle;\n",
       "    }\n",
       "\n",
       "    .dataframe tbody tr th {\n",
       "        vertical-align: top;\n",
       "    }\n",
       "\n",
       "    .dataframe thead tr th {\n",
       "        text-align: left;\n",
       "    }\n",
       "\n",
       "    .dataframe thead tr:last-of-type th {\n",
       "        text-align: right;\n",
       "    }\n",
       "</style>\n",
       "<table border=\"1\" class=\"dataframe\">\n",
       "  <thead>\n",
       "    <tr>\n",
       "      <th></th>\n",
       "      <th>ci95_high</th>\n",
       "      <th>ci95_low</th>\n",
       "    </tr>\n",
       "    <tr>\n",
       "      <th></th>\n",
       "      <th></th>\n",
       "      <th></th>\n",
       "    </tr>\n",
       "    <tr>\n",
       "      <th>county Name</th>\n",
       "      <th></th>\n",
       "      <th></th>\n",
       "    </tr>\n",
       "  </thead>\n",
       "  <tbody>\n",
       "    <tr>\n",
       "      <td>Ada</td>\n",
       "      <td>46.054380</td>\n",
       "      <td>42.110003</td>\n",
       "    </tr>\n",
       "    <tr>\n",
       "      <td>Adair</td>\n",
       "      <td>41.214614</td>\n",
       "      <td>38.040181</td>\n",
       "    </tr>\n",
       "    <tr>\n",
       "      <td>Adams</td>\n",
       "      <td>36.364471</td>\n",
       "      <td>34.390874</td>\n",
       "    </tr>\n",
       "    <tr>\n",
       "      <td>Adjuntas</td>\n",
       "      <td>17.361933</td>\n",
       "      <td>13.304733</td>\n",
       "    </tr>\n",
       "    <tr>\n",
       "      <td>Aiken</td>\n",
       "      <td>40.069232</td>\n",
       "      <td>36.799189</td>\n",
       "    </tr>\n",
       "    <tr>\n",
       "      <td>...</td>\n",
       "      <td>...</td>\n",
       "      <td>...</td>\n",
       "    </tr>\n",
       "    <tr>\n",
       "      <td>Yavapai</td>\n",
       "      <td>46.297880</td>\n",
       "      <td>43.910339</td>\n",
       "    </tr>\n",
       "    <tr>\n",
       "      <td>Yellowstone</td>\n",
       "      <td>33.522411</td>\n",
       "      <td>29.609457</td>\n",
       "    </tr>\n",
       "    <tr>\n",
       "      <td>Yolo</td>\n",
       "      <td>52.029599</td>\n",
       "      <td>46.523825</td>\n",
       "    </tr>\n",
       "    <tr>\n",
       "      <td>York</td>\n",
       "      <td>41.358403</td>\n",
       "      <td>39.446628</td>\n",
       "    </tr>\n",
       "    <tr>\n",
       "      <td>Yuma</td>\n",
       "      <td>53.688177</td>\n",
       "      <td>49.139221</td>\n",
       "    </tr>\n",
       "  </tbody>\n",
       "</table>\n",
       "<p>815 rows × 2 columns</p>\n",
       "</div>"
      ],
      "text/plain": [
       "             ci95_high   ci95_low\n",
       "                                 \n",
       "county Name                      \n",
       "Ada          46.054380  42.110003\n",
       "Adair        41.214614  38.040181\n",
       "Adams        36.364471  34.390874\n",
       "Adjuntas     17.361933  13.304733\n",
       "Aiken        40.069232  36.799189\n",
       "...                ...        ...\n",
       "Yavapai      46.297880  43.910339\n",
       "Yellowstone  33.522411  29.609457\n",
       "Yolo         52.029599  46.523825\n",
       "York         41.358403  39.446628\n",
       "Yuma         53.688177  49.139221\n",
       "\n",
       "[815 rows x 2 columns]"
      ]
     },
     "execution_count": 136,
     "metadata": {},
     "output_type": "execute_result"
    }
   ],
   "source": [
    "stats"
   ]
  },
  {
   "cell_type": "markdown",
   "metadata": {},
   "source": [
    "### Problem 7) In this question we can test if the mean of AQI in winter is equel to mean in summer or not?"
   ]
  },
  {
   "cell_type": "markdown",
   "metadata": {},
   "source": [
    "our hypothesis test will be:\n",
    "\n",
    "***\n",
    "H$_0$    : $\\delta$ = 0\n",
    " \n",
    "H$_A$: $\\delta$ $\\neq$ 0 \n",
    "\n",
    "***\n",
    "\n",
    "Which $\\delta$  is the difference between the mean of AQI in winter and summer.\n",
    "\n",
    "$\\delta$  = $\\mu_W$ - $\\mu_S$\n",
    "\n",
    "We take summer from July to September and winter from January to March."
   ]
  },
  {
   "cell_type": "code",
   "execution_count": 54,
   "metadata": {},
   "outputs": [
    {
     "data": {
      "text/plain": [
       "(92, 1)"
      ]
     },
     "execution_count": 54,
     "metadata": {},
     "output_type": "execute_result"
    }
   ],
   "source": [
    "summer_data = df[['AQI','Date']].groupby(['Date']).mean().sort_values('Date',ascending=True)[151:243]\n",
    "AQI_mean_S = np.mean(summer_data)\n",
    "summer_data.shape\n",
    "#print(AQI_mean_S)"
   ]
  },
  {
   "cell_type": "code",
   "execution_count": 55,
   "metadata": {},
   "outputs": [
    {
     "data": {
      "text/plain": [
       "(90, 1)"
      ]
     },
     "execution_count": 55,
     "metadata": {},
     "output_type": "execute_result"
    }
   ],
   "source": [
    "winter_data = df[['AQI','Date']].groupby(['Date']).mean().sort_values('Date',ascending=True)[:90]\n",
    "AQI_mean_W = np.mean(winter_data)\n",
    "winter_data.shape\n",
    "#print(AQI_mean_W)"
   ]
  },
  {
   "cell_type": "code",
   "execution_count": 59,
   "metadata": {},
   "outputs": [],
   "source": [
    "from scipy.stats import ttest_1samp\n"
   ]
  },
  {
   "cell_type": "code",
   "execution_count": 57,
   "metadata": {},
   "outputs": [
    {
     "ename": "NameError",
     "evalue": "name 'groupby_gender' is not defined",
     "output_type": "error",
     "traceback": [
      "\u001b[0;31m---------------------------------------------------------------------------\u001b[0m",
      "\u001b[0;31mNameError\u001b[0m                                 Traceback (most recent call last)",
      "\u001b[0;32m<ipython-input-57-a10073194b3c>\u001b[0m in \u001b[0;36m<module>\u001b[0;34m\u001b[0m\n\u001b[0;32m----> 1\u001b[0;31m \u001b[0mgroupby_gender\u001b[0m\u001b[0;34m.\u001b[0m\u001b[0mmean\u001b[0m\u001b[0;34m(\u001b[0m\u001b[0;34m)\u001b[0m\u001b[0;34m\u001b[0m\u001b[0;34m\u001b[0m\u001b[0m\n\u001b[0m",
      "\u001b[0;31mNameError\u001b[0m: name 'groupby_gender' is not defined"
     ]
    }
   ],
   "source": [
    "groupby_gender.mean()"
   ]
  },
  {
   "cell_type": "code",
   "execution_count": 61,
   "metadata": {},
   "outputs": [
    {
     "data": {
      "text/plain": [
       "Ttest_indResult(statistic=array([16.27051263]), pvalue=array([3.39330953e-37]))"
      ]
     },
     "execution_count": 61,
     "metadata": {},
     "output_type": "execute_result"
    }
   ],
   "source": [
    "scipy.stats.ttest_ind(summer_data,winter_data)"
   ]
  },
  {
   "cell_type": "code",
   "execution_count": 62,
   "metadata": {},
   "outputs": [
    {
     "data": {
      "text/plain": [
       "(array([16.27051263]), array([3.39330953e-37]), 180.0)"
      ]
     },
     "execution_count": 62,
     "metadata": {},
     "output_type": "execute_result"
    }
   ],
   "source": [
    "import statsmodels.api as sm\n",
    "sm.stats.ttest_ind(summer_data, winter_data)"
   ]
  },
  {
   "cell_type": "code",
   "execution_count": 63,
   "metadata": {},
   "outputs": [
    {
     "name": "stdout",
     "output_type": "stream",
     "text": [
      "summer mean value: AQI    45.419558\n",
      "dtype: float64\n",
      "winter mean value: AQI    35.745378\n",
      "dtype: float64\n",
      "summer std value: AQI    4.461035\n",
      "dtype: float64\n",
      "winter std value: AQI    3.438639\n",
      "dtype: float64\n",
      "p-value [3.39330953e-37]\n",
      "we reject null hypothesis\n"
     ]
    }
   ],
   "source": [
    "from scipy.stats import ttest_ind\n",
    "print(\"summer mean value:\",AQI_mean_S)\n",
    "print(\"winter mean value:\",AQI_mean_W)\n",
    "week1_std = np.std(summer_data)\n",
    "week2_std = np.std(winter_data)\n",
    "print(\"summer std value:\",week1_std)\n",
    "print(\"winter std value:\",week2_std)\n",
    "ttest,pval = ttest_ind(summer_data,winter_data)\n",
    "print(\"p-value\",pval)\n",
    "if pval <0.05:\n",
    "    \n",
    "    print(\"we reject null hypothesis\")\n",
    "else:\n",
    "    print(\"we accept null hypothesis\")"
   ]
  },
  {
   "cell_type": "code",
   "execution_count": 63,
   "metadata": {},
   "outputs": [
    {
     "name": "stdout",
     "output_type": "stream",
     "text": [
      "Ttest_indResult(statistic=array([16.27051263]), pvalue=array([3.39330953e-37]))\n",
      "[ True]\n"
     ]
    }
   ],
   "source": [
    "r = sp.stats.ttest_ind(summer_data,winter_data)\n",
    "print(r)\n",
    "print(r.pvalue < alpha)"
   ]
  },
  {
   "cell_type": "markdown",
   "metadata": {},
   "source": [
    "so we reject the null hypothesis, it means that the AQI is not equal in summer and winter. The air pollution in suumer and winter is different."
   ]
  },
  {
   "cell_type": "markdown",
   "metadata": {},
   "source": [
    "## Problem 8) Difference between Texas and Michigan"
   ]
  },
  {
   "cell_type": "code",
   "execution_count": 6,
   "metadata": {},
   "outputs": [],
   "source": [
    "summer_data = df[['AQI','Date']].groupby(['Date']).mean().sort_values('Date',ascending=True)\n",
    "AQI_mean_S = np.mean(summer_data)"
   ]
  },
  {
   "cell_type": "code",
   "execution_count": 7,
   "metadata": {},
   "outputs": [
    {
     "data": {
      "text/html": [
       "<div>\n",
       "<style scoped>\n",
       "    .dataframe tbody tr th:only-of-type {\n",
       "        vertical-align: middle;\n",
       "    }\n",
       "\n",
       "    .dataframe tbody tr th {\n",
       "        vertical-align: top;\n",
       "    }\n",
       "\n",
       "    .dataframe thead th {\n",
       "        text-align: right;\n",
       "    }\n",
       "</style>\n",
       "<table border=\"1\" class=\"dataframe\">\n",
       "  <thead>\n",
       "    <tr style=\"text-align: right;\">\n",
       "      <th></th>\n",
       "      <th>State Name</th>\n",
       "      <th>AQI</th>\n",
       "    </tr>\n",
       "  </thead>\n",
       "  <tbody>\n",
       "    <tr>\n",
       "      <td>278806</td>\n",
       "      <td>Texas</td>\n",
       "      <td>28</td>\n",
       "    </tr>\n",
       "    <tr>\n",
       "      <td>278807</td>\n",
       "      <td>Texas</td>\n",
       "      <td>29</td>\n",
       "    </tr>\n",
       "    <tr>\n",
       "      <td>278808</td>\n",
       "      <td>Texas</td>\n",
       "      <td>33</td>\n",
       "    </tr>\n",
       "    <tr>\n",
       "      <td>278809</td>\n",
       "      <td>Texas</td>\n",
       "      <td>31</td>\n",
       "    </tr>\n",
       "    <tr>\n",
       "      <td>278810</td>\n",
       "      <td>Texas</td>\n",
       "      <td>39</td>\n",
       "    </tr>\n",
       "    <tr>\n",
       "      <td>...</td>\n",
       "      <td>...</td>\n",
       "      <td>...</td>\n",
       "    </tr>\n",
       "    <tr>\n",
       "      <td>295817</td>\n",
       "      <td>Texas</td>\n",
       "      <td>37</td>\n",
       "    </tr>\n",
       "    <tr>\n",
       "      <td>295818</td>\n",
       "      <td>Texas</td>\n",
       "      <td>29</td>\n",
       "    </tr>\n",
       "    <tr>\n",
       "      <td>295819</td>\n",
       "      <td>Texas</td>\n",
       "      <td>23</td>\n",
       "    </tr>\n",
       "    <tr>\n",
       "      <td>295820</td>\n",
       "      <td>Texas</td>\n",
       "      <td>29</td>\n",
       "    </tr>\n",
       "    <tr>\n",
       "      <td>295821</td>\n",
       "      <td>Texas</td>\n",
       "      <td>66</td>\n",
       "    </tr>\n",
       "  </tbody>\n",
       "</table>\n",
       "<p>17016 rows × 2 columns</p>\n",
       "</div>"
      ],
      "text/plain": [
       "       State Name  AQI\n",
       "278806      Texas   28\n",
       "278807      Texas   29\n",
       "278808      Texas   33\n",
       "278809      Texas   31\n",
       "278810      Texas   39\n",
       "...           ...  ...\n",
       "295817      Texas   37\n",
       "295818      Texas   29\n",
       "295819      Texas   23\n",
       "295820      Texas   29\n",
       "295821      Texas   66\n",
       "\n",
       "[17016 rows x 2 columns]"
      ]
     },
     "execution_count": 7,
     "metadata": {},
     "output_type": "execute_result"
    }
   ],
   "source": [
    "texas = aqi_all[aqi_all['State Name'].str.contains(\"Texas\")]\n",
    "texas.drop(['county Name','State Code','Date','Category','Defining Parameter','Number of Sites Reporting','Defining Site','County Code'],axis=1)\n"
   ]
  },
  {
   "cell_type": "code",
   "execution_count": 42,
   "metadata": {},
   "outputs": [],
   "source": [
    "texas_aqi = texas['AQI']"
   ]
  },
  {
   "cell_type": "code",
   "execution_count": 43,
   "metadata": {},
   "outputs": [
    {
     "data": {
      "text/plain": [
       "count    17016.000000\n",
       "mean        36.794194\n",
       "std         23.598422\n",
       "min          0.000000\n",
       "25%         24.000000\n",
       "50%         34.000000\n",
       "75%         47.000000\n",
       "max        204.000000\n",
       "Name: AQI, dtype: float64"
      ]
     },
     "execution_count": 43,
     "metadata": {},
     "output_type": "execute_result"
    }
   ],
   "source": [
    "texas_aqi.describe()"
   ]
  },
  {
   "cell_type": "code",
   "execution_count": 44,
   "metadata": {},
   "outputs": [
    {
     "data": {
      "text/html": [
       "<div>\n",
       "<style scoped>\n",
       "    .dataframe tbody tr th:only-of-type {\n",
       "        vertical-align: middle;\n",
       "    }\n",
       "\n",
       "    .dataframe tbody tr th {\n",
       "        vertical-align: top;\n",
       "    }\n",
       "\n",
       "    .dataframe thead th {\n",
       "        text-align: right;\n",
       "    }\n",
       "</style>\n",
       "<table border=\"1\" class=\"dataframe\">\n",
       "  <thead>\n",
       "    <tr style=\"text-align: right;\">\n",
       "      <th></th>\n",
       "      <th>State Name</th>\n",
       "      <th>AQI</th>\n",
       "    </tr>\n",
       "  </thead>\n",
       "  <tbody>\n",
       "    <tr>\n",
       "      <td>140425</td>\n",
       "      <td>Michigan</td>\n",
       "      <td>75</td>\n",
       "    </tr>\n",
       "    <tr>\n",
       "      <td>140426</td>\n",
       "      <td>Michigan</td>\n",
       "      <td>20</td>\n",
       "    </tr>\n",
       "    <tr>\n",
       "      <td>140427</td>\n",
       "      <td>Michigan</td>\n",
       "      <td>3</td>\n",
       "    </tr>\n",
       "    <tr>\n",
       "      <td>140428</td>\n",
       "      <td>Michigan</td>\n",
       "      <td>8</td>\n",
       "    </tr>\n",
       "    <tr>\n",
       "      <td>140429</td>\n",
       "      <td>Michigan</td>\n",
       "      <td>23</td>\n",
       "    </tr>\n",
       "    <tr>\n",
       "      <td>...</td>\n",
       "      <td>...</td>\n",
       "      <td>...</td>\n",
       "    </tr>\n",
       "    <tr>\n",
       "      <td>149023</td>\n",
       "      <td>Michigan</td>\n",
       "      <td>23</td>\n",
       "    </tr>\n",
       "    <tr>\n",
       "      <td>149024</td>\n",
       "      <td>Michigan</td>\n",
       "      <td>32</td>\n",
       "    </tr>\n",
       "    <tr>\n",
       "      <td>149025</td>\n",
       "      <td>Michigan</td>\n",
       "      <td>33</td>\n",
       "    </tr>\n",
       "    <tr>\n",
       "      <td>149026</td>\n",
       "      <td>Michigan</td>\n",
       "      <td>27</td>\n",
       "    </tr>\n",
       "    <tr>\n",
       "      <td>149027</td>\n",
       "      <td>Michigan</td>\n",
       "      <td>20</td>\n",
       "    </tr>\n",
       "  </tbody>\n",
       "</table>\n",
       "<p>8603 rows × 2 columns</p>\n",
       "</div>"
      ],
      "text/plain": [
       "       State Name  AQI\n",
       "140425   Michigan   75\n",
       "140426   Michigan   20\n",
       "140427   Michigan    3\n",
       "140428   Michigan    8\n",
       "140429   Michigan   23\n",
       "...           ...  ...\n",
       "149023   Michigan   23\n",
       "149024   Michigan   32\n",
       "149025   Michigan   33\n",
       "149026   Michigan   27\n",
       "149027   Michigan   20\n",
       "\n",
       "[8603 rows x 2 columns]"
      ]
     },
     "execution_count": 44,
     "metadata": {},
     "output_type": "execute_result"
    }
   ],
   "source": [
    "michigan = aqi_all[aqi_all['State Name'].str.contains(\"Michigan\")]\n",
    "\n",
    "michigan.drop(['county Name','State Code','Date','Category','Defining Parameter','Number of Sites Reporting','Defining Site','County Code'],axis=1)\n"
   ]
  },
  {
   "cell_type": "code",
   "execution_count": 45,
   "metadata": {},
   "outputs": [],
   "source": [
    "michigan_aqi = michigan['AQI']"
   ]
  },
  {
   "cell_type": "code",
   "execution_count": 46,
   "metadata": {},
   "outputs": [
    {
     "data": {
      "text/plain": [
       "count    8603.000000\n",
       "mean       37.975590\n",
       "std        19.572972\n",
       "min         0.000000\n",
       "25%        27.000000\n",
       "50%        37.000000\n",
       "75%        45.000000\n",
       "max       174.000000\n",
       "Name: AQI, dtype: float64"
      ]
     },
     "execution_count": 46,
     "metadata": {},
     "output_type": "execute_result"
    }
   ],
   "source": [
    "michigan_aqi.describe()"
   ]
  },
  {
   "cell_type": "code",
   "execution_count": 23,
   "metadata": {},
   "outputs": [],
   "source": [
    "AQI_mean_T = np.mean(texas_aqi)\n",
    "AQI_mean_M = np.mean(michigan_aqi)"
   ]
  },
  {
   "cell_type": "code",
   "execution_count": 29,
   "metadata": {},
   "outputs": [],
   "source": [
    "def compare_2_groups(arr_1, arr_2, alpha, sample_size):\n",
    "    stat, p = ttest_ind(arr_1, arr_2)\n",
    "    print('Statistics=%.3f, p=%.3f' % (stat, p))\n",
    "    if p > alpha:\n",
    "        print('Same distributions (fail to reject H0)')\n",
    "    else:\n",
    "        print('Different distributions (reject H0)')"
   ]
  },
  {
   "cell_type": "code",
   "execution_count": 40,
   "metadata": {},
   "outputs": [
    {
     "name": "stdout",
     "output_type": "stream",
     "text": [
      "Statistics=-1.524, p=0.128\n",
      "Same distributions (fail to reject H0)\n"
     ]
    }
   ],
   "source": [
    "sample_size = 8000\n",
    "ger_sampled = np.random.choice(texas_aqi, sample_size)\n",
    "fr_sampled = np.random.choice(michigan_aqi, sample_size)\n",
    "compare_2_groups(ger_sampled, fr_sampled, 0.05, sample_size)\n"
   ]
  },
  {
   "cell_type": "code",
   "execution_count": 47,
   "metadata": {},
   "outputs": [
    {
     "data": {
      "text/plain": [
       "False"
      ]
     },
     "execution_count": 47,
     "metadata": {},
     "output_type": "execute_result"
    }
   ],
   "source": [
    "texas_aqi.mean() > michigan_aqi.mean()"
   ]
  },
  {
   "cell_type": "code",
   "execution_count": 49,
   "metadata": {},
   "outputs": [
    {
     "data": {
      "text/plain": [
       "<matplotlib.legend.Legend at 0x1a241ba810>"
      ]
     },
     "execution_count": 49,
     "metadata": {},
     "output_type": "execute_result"
    },
    {
     "data": {
      "image/png": "[encoded data removed]",
      "text/plain": [
       "<Figure size 432x288 with 1 Axes>"
      ]
     },
     "metadata": {
      "needs_background": "light"
     },
     "output_type": "display_data"
    }
   ],
   "source": [
    "import seaborn as sns\n",
    "sns.distplot(texas_aqi)\n",
    "sns.distplot(michigan_aqi)\n",
    "plt.legend(['Texas', 'Michigan'])"
   ]
  },
  {
   "cell_type": "code",
   "execution_count": 50,
   "metadata": {},
   "outputs": [],
   "source": [
    "alpha = 0.05"
   ]
  },
  {
   "cell_type": "code",
   "execution_count": 52,
   "metadata": {},
   "outputs": [
    {
     "name": "stdout",
     "output_type": "stream",
     "text": [
      "Ttest_indResult(statistic=-3.9996548756140116, pvalue=6.361292722103862e-05)\n",
      "True\n"
     ]
    }
   ],
   "source": [
    "import scipy as sp\n",
    "r = sp.stats.ttest_ind(texas_aqi,michigan_aqi)\n",
    "print(r)\n",
    "print(r.pvalue < alpha)"
   ]
  },
  {
   "cell_type": "markdown",
   "metadata": {},
   "source": [
    "so we reject the null hypothesis, it means that the AQI is not equal in Texas and Michigan. It means that air quality is better in Texas."
   ]
  },
  {
   "cell_type": "code",
   "execution_count": 7,
   "metadata": {},
   "outputs": [],
   "source": [
    "df_texas_aqi = df[df['State Name'] == 'Texas']['AQI']"
   ]
  },
  {
   "cell_type": "code",
   "execution_count": 67,
   "metadata": {},
   "outputs": [],
   "source": [
    "df_michigan_aqi = df[df['State Name'] == 'Michigan']['AQI']"
   ]
  },
  {
   "cell_type": "code",
   "execution_count": 69,
   "metadata": {},
   "outputs": [
    {
     "data": {
      "text/plain": [
       "Ttest_indResult(statistic=-4.250333636908716, pvalue=2.144031734760338e-05)"
      ]
     },
     "execution_count": 69,
     "metadata": {},
     "output_type": "execute_result"
    }
   ],
   "source": [
    "scipy.stats.ttest_ind(df_texas_aqi, df_michigan_aqi, equal_var=False)"
   ]
  },
  {
   "cell_type": "code",
   "execution_count": 75,
   "metadata": {},
   "outputs": [],
   "source": [
    "def independent_ttest(data1, data2, alpha=0.05):\n",
    "   \n",
    "    import scipy.stats as st\n",
    "    # calculate means\n",
    "    mean1, mean2 = np.mean(data1), np.mean(data2)\n",
    "    # calculate standard errors\n",
    "    se1, se2 = st.sem(data1), st.sem(data2)\n",
    "    # standard error on the difference between the samples\n",
    "    sed = np.sqrt(se1**2.0 + se2**2.0)\n",
    "    # calculate the t statistic\n",
    "    t_stat = (mean1 - mean2) / sed\n",
    "    # degrees of freedom\n",
    "    df = len(data1) + len(data2) - 2\n",
    "    # calculate the critical value\n",
    "    cv = st.t.ppf(1.0 - alpha, df)\n",
    "    # calculate the p-value\n",
    "    p = (1.0 - st.t.cdf(abs(t_stat), df)) * 2.0\n",
    "    # return everything\n",
    "    return t_stat, df, cv, p"
   ]
  },
  {
   "cell_type": "code",
   "execution_count": 74,
   "metadata": {},
   "outputs": [
    {
     "name": "stdout",
     "output_type": "stream",
     "text": [
      "t=-4.250, df=25617, cv=1.645, p=0.0000214\n",
      "\n",
      "Reject the null hypothesis that the means are equal.\n",
      "Reject the null hypothesis that the means are equal.\n"
     ]
    }
   ],
   "source": [
    "alpha = 0.05\n",
    "t_stat, df, cv, p = independent_ttest(df_texas_aqi, df_michigan_aqi, alpha)\n",
    "print('t=%.3f, df=%d, cv=%.3f, p=%.7f' % (t_stat, df, cv, p))\n",
    "print()\n",
    "\n",
    "# interpret via critical value\n",
    "if abs(t_stat) <= cv:\n",
    "    print('Fail to reject null hypothesis that the means are equal.')\n",
    "else:\n",
    "    print('Reject the null hypothesis that the means are equal.')\n",
    "# interpret via p-value\n",
    "if p > alpha:\n",
    "    print('Fail to reject null hypothesis that the means are equal.')\n",
    "else:\n",
    "    print('Reject the null hypothesis that the means are equal.')"
   ]
  },
  {
   "cell_type": "markdown",
   "metadata": {},
   "source": [
    "Again..We can see that the null hypothesis should be rejected."
   ]
  },
  {
   "cell_type": "markdown",
   "metadata": {},
   "source": [
    "## Problem 9) ANOVA"
   ]
  },
  {
   "cell_type": "markdown",
   "metadata": {},
   "source": [
    "first we should make a data frame for each of these states."
   ]
  },
  {
   "cell_type": "code",
   "execution_count": 6,
   "metadata": {},
   "outputs": [],
   "source": [
    "df_california_aqi = df[df['State Name'] == 'California']['AQI']"
   ]
  },
  {
   "cell_type": "code",
   "execution_count": 8,
   "metadata": {},
   "outputs": [],
   "source": [
    "df_newyork_aqi = df[df['State Name'] == 'New York']['AQI']"
   ]
  },
  {
   "cell_type": "code",
   "execution_count": 9,
   "metadata": {},
   "outputs": [],
   "source": [
    "df_alabama_aqi = df[df['State Name'] == 'Alabama']['AQI']"
   ]
  },
  {
   "cell_type": "code",
   "execution_count": 12,
   "metadata": {},
   "outputs": [
    {
     "data": {
      "image/png": "[encoded data removed]",
      "text/plain": [
       "<Figure size 648x360 with 1 Axes>"
      ]
     },
     "metadata": {
      "needs_background": "light"
     },
     "output_type": "display_data"
    }
   ],
   "source": [
    "plt.figure(figsize=(9,5))\n",
    "sns.kdeplot(df_california_aqi,shade=True,color='Blue')\n",
    "sns.kdeplot(df_newyork_aqi,shade=True,color='red')\n",
    "sns.kdeplot(df_alabama_aqi,shade=True,color='yellow')\n",
    "\n",
    "plt.legend(['California','New York','Alabama'],fontsize=14)\n",
    "plt.show()\n"
   ]
  },
  {
   "cell_type": "code",
   "execution_count": 13,
   "metadata": {},
   "outputs": [],
   "source": [
    "groups = {'California':df_california_aqi,'New York':df_newyork_aqi,'Alabama':df_alabama_aqi}"
   ]
  },
  {
   "cell_type": "code",
   "execution_count": 20,
   "metadata": {},
   "outputs": [],
   "source": [
    "import scipy.stats as st\n",
    "def multi_anova(groups,alpha=0.05):\n",
    "    \"\"\"\n",
    "    Two-way ANOVA between multiple groups\n",
    "    groups: A dictionary object of trial groups\n",
    "    \"\"\"\n",
    "    from itertools import combinations\n",
    "    list_anova = list(combinations(list(groups.keys()),2))\n",
    "    \n",
    "    for comb in list_anova:\n",
    "        _,p=st.f_oneway(groups[comb[0]],groups[comb[1]])\n",
    "        if p>0.05:\n",
    "            print(\"\\nANOVA fails to reject the hypothesis of equal mean for {} and {}\".format(comb[0],comb[1]))\n",
    "            print(p)\n",
    "        else:\n",
    "            print(\"\\nWe reject the hypothesis of equal mean for {} and {} as per ANOVA test result\".format(comb[0],comb[1]))\n",
    "            print(p)"
   ]
  },
  {
   "cell_type": "code",
   "execution_count": 21,
   "metadata": {},
   "outputs": [
    {
     "name": "stdout",
     "output_type": "stream",
     "text": [
      "\n",
      "We reject the hypothesis of equal mean for California and New York as per ANOVA test result\n",
      "0.0\n",
      "\n",
      "We reject the hypothesis of equal mean for California and Alabama as per ANOVA test result\n",
      "7.412747923688049e-302\n",
      "\n",
      "We reject the hypothesis of equal mean for New York and Alabama as per ANOVA test result\n",
      "5.799037142441058e-41\n"
     ]
    }
   ],
   "source": [
    "multi_anova(groups)"
   ]
  },
  {
   "cell_type": "code",
   "execution_count": 23,
   "metadata": {},
   "outputs": [
    {
     "name": "stdout",
     "output_type": "stream",
     "text": [
      "F Value is: 2557.1704856866613\n",
      "p Value is: 0.0\n"
     ]
    }
   ],
   "source": [
    "from scipy import stats\n",
    "F,p=stats.f_oneway(df_california_aqi,df_newyork_aqi,df_alabama_aqi)\n",
    "print(\"F Value is:\" ,F)\n",
    "print(\"p Value is:\" ,p)"
   ]
  },
  {
   "cell_type": "code",
   "execution_count": null,
   "metadata": {},
   "outputs": [],
   "source": []
  }
 ],
 "metadata": {
  "kernelspec": {
   "display_name": "Python 3",
   "language": "python",
   "name": "python3"
  },
  "language_info": {
   "codemirror_mode": {
    "name": "ipython",
    "version": 3
   },
   "file_extension": ".py",
   "mimetype": "text/x-python",
   "name": "python",
   "nbconvert_exporter": "python",
   "pygments_lexer": "ipython3",
   "version": "3.7.4"
  }
 },
 "nbformat": 4,
 "nbformat_minor": 2
}
